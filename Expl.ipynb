{
 "cells": [
  {
   "cell_type": "markdown",
   "id": "e56b1d98",
   "metadata": {},
   "source": [
    "# Processing CSV files for SEEDS database\n",
    "This notebook contains source code for processing different CSV files of SEEDS project and preparing data in a format that allows populating SEEDS app DB."
   ]
  },
  {
   "cell_type": "code",
   "execution_count": 55,
   "id": "4f18b1df",
   "metadata": {},
   "outputs": [],
   "source": [
    "import pandas as pd\n",
    "import warnings\n",
    "import geopandas\n",
    "import pprint as pp\n",
    "warnings.filterwarnings('ignore')"
   ]
  },
  {
   "cell_type": "markdown",
   "id": "c2e42011",
   "metadata": {},
   "source": [
    "## Loading CSV files"
   ]
  },
  {
   "cell_type": "code",
   "execution_count": 116,
   "id": "9f0224d4",
   "metadata": {},
   "outputs": [],
   "source": [
    "nameplate = pd.read_csv('./energy/nameplate_capacity.csv')\n",
    "storage = pd.read_csv('./energy/storage_capacity.csv')\n",
    "citizen = pd.read_csv('./energy/citizen_leadership_degree.csv')\n",
    "acc = pd.read_csv('./energy/deployment_acceleration_rate.csv')\n",
    "imp = pd.read_csv('./energy/import_dependency.csv')\n",
    "bio = pd.read_csv('./energy/biofuel_use_rate.csv')\n",
    "ele_heat = pd.read_csv('./energy/electrification_rate_heat_building.csv')\n",
    "ele_road = pd.read_csv('./energy/electrification_rate_road_transport.csv')"
   ]
  },
  {
   "cell_type": "code",
   "execution_count": 117,
   "id": "12f65029",
   "metadata": {},
   "outputs": [
    {
     "name": "stdout",
     "output_type": "stream",
     "text": [
      "['chp_biofuel_extraction',\n",
      " 'chp_hydrogen',\n",
      " 'chp_methane_extraction',\n",
      " 'chp_wte_back_pressure',\n",
      " 'electrolysis',\n",
      " 'existing_pv',\n",
      " 'existing_wind',\n",
      " 'hydro_reservoir',\n",
      " 'hydro_run_of_river',\n",
      " 'open_field_pv',\n",
      " 'pumped_hydro',\n",
      " 'wind_onshore',\n",
      " 'battery',\n",
      " 'ccgt',\n",
      " 'roof_mounted_pv',\n",
      " 'wind_offshore']\n"
     ]
    }
   ],
   "source": [
    "# Unique type of power generating technology\n",
    "power_tech = list(nameplate.techs.unique())\n",
    "\n",
    "pp.pprint(power_tech)"
   ]
  },
  {
   "cell_type": "markdown",
   "id": "6a19a082",
   "metadata": {},
   "source": [
    "## Preparing data for Scenario table\n",
    "Here, we will first structure data for creating Scenario table which will store one etry per scenario. The schema of the table is given below\n",
    "\n",
    "Table: Scenario\n",
    "Columns: \n",
    "\n",
    "    power_capacity \n",
    "    storage_capacity\n",
    "    community_infrastructure\n",
    "    implementation_pace\n",
    "    import_dependency\n",
    "    bio_fuel\n",
    "    \n",
    "    ## computed by summing up data across all location for each scenario\n",
    "    on_shore_wind\n",
    "    off_shore_wind\n",
    "    open_field_pv\n",
    "    roof_mounted_pv\n",
    "    hydro_run_river\n",
    "    \n",
    "    ## computed by summing up data across generation and storage for each scenario\n",
    "    land_occupation\n",
    "    marine_toxicity\n",
    "    human_toxicity\n",
    "    fossil_depletion\n",
    "    metal_depletion\n",
    "    climate_change\n"
   ]
  },
  {
   "cell_type": "code",
   "execution_count": 118,
   "id": "377d07bc",
   "metadata": {},
   "outputs": [],
   "source": [
    "pw_nameplate = nameplate.loc[nameplate['techs'].isin(power_tech),:]\n",
    "total_power = pw_nameplate.groupby(['spores']).sum().reset_index()\n",
    "\n",
    "pw_storage = storage.loc[storage['techs'].isin(power_tech),:]\n",
    "total_storage = storage.groupby(['spores']).sum().reset_index()"
   ]
  },
  {
   "cell_type": "markdown",
   "id": "5d7185b0",
   "metadata": {},
   "source": [
    "### Preparing partial Scenario table"
   ]
  },
  {
   "cell_type": "code",
   "execution_count": 124,
   "id": "f9d2e305",
   "metadata": {},
   "outputs": [],
   "source": [
    "# Scenario table with partial columns dataframe\n",
    "scenario_partial = pd.DataFrame(columns=['id','infra','pace','import','power',\n",
    "                                 'storage','bio'])"
   ]
  },
  {
   "cell_type": "code",
   "execution_count": 125,
   "id": "db624b65",
   "metadata": {},
   "outputs": [],
   "source": [
    "scenario_ids = sorted(acc.spores.unique())\n",
    "\n",
    "for spore in scenario_ids:\n",
    "    scenario_id = spore\n",
    "    infrastructure = citizen.loc[citizen['spores'] == spore,'citizen_leadership_degree'].to_list()[0]\n",
    "    deployment_rate = acc.loc[acc['spores'] == spore,'deployment_acceleration_rate'].to_list()[0]\n",
    "    import_dependency = imp.loc[imp['spores'] == spore,'import_dependency'].to_list()[0]\n",
    "    power_capacity = total_power.loc[total_power['spores'] == spore,'nameplate_capacity'].to_list()[0]\n",
    "    storage_capacity = total_storage.loc[total_storage['spores'] == spore,'storage_capacity'].to_list()[0]\n",
    "    bio_fuel = bio.loc[bio['spores'] == spore,'biofuel_use_rate'].to_list()[0]\n",
    "    \n",
    "    scenario_partial = scenario_partial.append({'id':spore,'infra':infrastructure,'pace':deployment_rate,\n",
    "                                'import':import_dependency,'power':power_capacity,\n",
    "                               'storage':storage_capacity,'bio':bio_fuel},ignore_index=True)\n",
    "    \"\"\"\n",
    "    print('Object:')\n",
    "    print('   infrastructure:',infrastructure)\n",
    "    print('   deployment_rate:',deployment_rate)\n",
    "    print('   import_dependency:',import_dependency)\n",
    "    print('   power_capacity:',power_capacity)\n",
    "    print('   storage_capacity:',storage_capacity)\n",
    "    print('   biofule_use_rate:',bio_fuel)\n",
    "    \"\"\""
   ]
  },
  {
   "cell_type": "code",
   "execution_count": 126,
   "id": "36109553",
   "metadata": {},
   "outputs": [],
   "source": [
    "scenario_partial.to_csv('Scenario_partial.csv',index=False)"
   ]
  },
  {
   "cell_type": "markdown",
   "id": "117ae0b9",
   "metadata": {},
   "source": [
    "### Location objects"
   ]
  },
  {
   "cell_type": "code",
   "execution_count": 64,
   "id": "7a5ef14e",
   "metadata": {},
   "outputs": [],
   "source": [
    "geo = geopandas.read_file('../portugal_regions.geojson')"
   ]
  },
  {
   "cell_type": "markdown",
   "id": "ec2f5934",
   "metadata": {},
   "source": [
    "### Preparing technology generation and storage data\n",
    "Here, we will process CSV files to get data for two tables: TechGeneration and TechStorage\n",
    "\n",
    "    Table: TechGeneration\n",
    "    Columns\n",
    "        location\n",
    "        scenario\n",
    "        technology_type\n",
    "        energy_generation\n",
    "    \n",
    "    \n",
    "    Table: TechStorage\n",
    "    Columns\n",
    "        scenario\n",
    "        location\n",
    "        technology_type\n",
    "        energy_storage\n"
   ]
  },
  {
   "cell_type": "code",
   "execution_count": 132,
   "id": "ebcb412f",
   "metadata": {},
   "outputs": [],
   "source": [
    "tech_gen = pd.DataFrame(columns=['scenario','location','tech_type','value'])\n",
    "tech_sto = pd.DataFrame(columns=['scenario','location','tech_type','value'])"
   ]
  },
  {
   "cell_type": "code",
   "execution_count": 133,
   "id": "1fa18dc7",
   "metadata": {},
   "outputs": [],
   "source": [
    "trans = pd.read_csv('./energy/transmission_capacity.csv')\n",
    "battery = nameplate.loc[nameplate['techs'] == 'battery',:]"
   ]
  },
  {
   "cell_type": "code",
   "execution_count": 135,
   "id": "747c84d5",
   "metadata": {},
   "outputs": [],
   "source": [
    "def getTechGenerationRecords(scenario_id,tech_type,loc = None):\n",
    "    \"\"\"\n",
    "    This function returns location wise value generation capacity for specified technology\n",
    "    \n",
    "    \"\"\"\n",
    "\n",
    "    sc_dataset = nameplate.loc[nameplate['spores'] == scenario_id,:]\n",
    "    tech_data = sc_dataset.loc[sc_dataset['techs'] == tech_type,:][['spores','locs','nameplate_capacity']]\n",
    "    \n",
    "    if loc:\n",
    "        return tech_data.loc[tech_data['locs'] == loc,:]['nameplate_capacity'].to_list()[0]\n",
    "    else:\n",
    "        return tech_data['locs'].to_list(),tech_data['nameplate_capacity'].to_list()"
   ]
  },
  {
   "cell_type": "code",
   "execution_count": 136,
   "id": "89803e90",
   "metadata": {},
   "outputs": [],
   "source": [
    "def getTechStorageRecords(scenario_id,tech_type,loc = None):\n",
    "    \"\"\"\n",
    "    This function returns location wise value storage capacity for specified technology\n",
    "    \n",
    "    \"\"\"\n",
    "    sc_dataset = storage.loc[storage['spores'] == scenario_id,:]\n",
    "    tech_data = sc_dataset.loc[sc_dataset['techs'] == tech_type,:][['spores','locs','storage_capacity']]\n",
    "    \n",
    "    if loc:\n",
    "        return tech_data.loc[tech_data['locs'] == loc,:]['storage_capacity'].to_list()[0]\n",
    "    else:\n",
    "        return tech_data['locs'].to_list(),tech_data['storage_capacity'].to_list()"
   ]
  },
  {
   "cell_type": "code",
   "execution_count": 137,
   "id": "3bc54b6d",
   "metadata": {},
   "outputs": [],
   "source": [
    "# TechGeneration Table\n",
    "for s in scenario_partial.index:\n",
    "    for tech in power_tech:\n",
    "        locs,values = getTechGenerationRecords(s,tech)\n",
    "        for loc in locs:\n",
    "            record = {'scenario':s,'location':loc}\n",
    "            value = getTechGenerationRecords(s,tech,loc)\n",
    "            record['tech_type'] = tech\n",
    "            record['value'] = value\n",
    "            tech_gen = tech_gen.append(record,ignore_index=True) "
   ]
  },
  {
   "cell_type": "code",
   "execution_count": 138,
   "id": "d034cbc5",
   "metadata": {},
   "outputs": [],
   "source": [
    "tech_gen.to_csv('TechGeneration.csv',index=False)"
   ]
  },
  {
   "cell_type": "code",
   "execution_count": 139,
   "id": "feee2d64",
   "metadata": {},
   "outputs": [],
   "source": [
    "# TechStorage Table\n",
    "for s in scenario_partial.index:\n",
    "    for tech in power_tech:\n",
    "        locs,values = getTechStorageRecords(s,tech)\n",
    "        for loc in locs:\n",
    "            record = {'scenario':s,'location':loc}\n",
    "            value = getTechStorageRecords(s,tech,loc)\n",
    "            record['tech_type'] = tech\n",
    "            record['value'] = value\n",
    "            tech_sto = tech_sto.append(record,ignore_index=True) "
   ]
  },
  {
   "cell_type": "code",
   "execution_count": 74,
   "id": "90119d3d",
   "metadata": {},
   "outputs": [],
   "source": [
    "tech_sto.to_csv('TechStorage.csv',index=False)"
   ]
  },
  {
   "cell_type": "code",
   "execution_count": 140,
   "id": "c99a6627",
   "metadata": {},
   "outputs": [
    {
     "data": {
      "text/plain": [
       "array(['hydro_reservoir', 'pumped_hydro', 'battery'], dtype=object)"
      ]
     },
     "execution_count": 140,
     "metadata": {},
     "output_type": "execute_result"
    }
   ],
   "source": [
    "tech_sto.tech_type.unique()"
   ]
  },
  {
   "cell_type": "markdown",
   "id": "aad61b44",
   "metadata": {},
   "source": [
    "### Preparing Impact control tables\n",
    "Here, we will process relavant CSV file for preparing data for technology generation and storage impact.\n",
    "\n",
    "    Table: Impact\n",
    "    Columns\n",
    "        scenario\n",
    "        location\n",
    "        technology_type\n",
    "        land_occupation\n",
    "        marine_toxicity\n",
    "        human_toxicity\n",
    "        fossil_depletion\n",
    "        metal_depletion\n",
    "        climate_change\n",
    "       "
   ]
  },
  {
   "cell_type": "code",
   "execution_count": 141,
   "id": "bff2dccd",
   "metadata": {},
   "outputs": [],
   "source": [
    "# Impact Storage table\n",
    "agri = pd.read_csv('./environmental_impact/dfagricultural_land_occupation_ALOP.csv')\n",
    "climate = pd.read_csv('./environmental_impact/dfclimate_change_GWP100.csv')\n",
    "fossil = pd.read_csv('./environmental_impact/dffossil_depletion_FDP.csv')\n",
    "human = pd.read_csv('./environmental_impact/dfhuman_toxicity_HTPinf.csv')\n",
    "marine = pd.read_csv('./environmental_impact/dfmarine_ecotoxicity_METPinf.csv')\n",
    "metal = pd.read_csv('./environmental_impact/dfmetal_depletion_MDP.csv')"
   ]
  },
  {
   "cell_type": "code",
   "execution_count": 142,
   "id": "ad8da377",
   "metadata": {},
   "outputs": [],
   "source": [
    "# processor for extracting records for generation impact control\n",
    "pro_gen_impact = ['energysystem.generation.electricity_generation.ccgt_electricity',\n",
    "       'energysystem.generation.electricity_generation.chp_biofuel_extraction_electricity',\n",
    "       'energysystem.generation.electricity_generation.hydro_reservoir_electricity',\n",
    "       'energysystem.generation.electricity_generation.hydro_run_of_river_electricity']\n",
    "\n",
    "pro_sto_impact = ['energysystem.storage.electricity_storage.battery_electricity',\n",
    "       'energysystem.storage.electricity_storage.pumped_hydro_electricity']"
   ]
  },
  {
   "cell_type": "code",
   "execution_count": 143,
   "id": "181d0156",
   "metadata": {},
   "outputs": [],
   "source": [
    "def getImpactGenerationRecords(dataset,scenario_id,tech_type,loc = None):\n",
    "    tech_type_label = ''.join(['energysystem.generation.electricity_generation.',tech_type,'_electricity'])\n",
    "    \n",
    "    sc_dataset = dataset.loc[dataset['Scenario'] == scenario_id,:]\n",
    "    agri_e = sc_dataset.loc[sc_dataset['Processor'] == tech_type_label,:][['System','Value']]\n",
    "    \n",
    "    if loc:\n",
    "        return agri_e.loc[agri_e['System'] == loc,:]['Value'].to_list()[0]\n",
    "    else:\n",
    "        return agri_e['System'].to_list(),agri_e['Value'].to_list()"
   ]
  },
  {
   "cell_type": "code",
   "execution_count": 144,
   "id": "e05c13f9",
   "metadata": {},
   "outputs": [],
   "source": [
    "# Building Impact table\n",
    "\n",
    "impact_gen = pd.DataFrame(columns=['scenario','location','fossil_depletion','human_toxicity',\n",
    "                                   'land_occupation','marine_toxicity','metal_depletion','climate_change',\n",
    "                                   'tech_type'])"
   ]
  },
  {
   "cell_type": "code",
   "execution_count": 145,
   "id": "83b77b77",
   "metadata": {},
   "outputs": [],
   "source": [
    "for s in scenario_partial.index:\n",
    "    for tech in ['ccgt','chp_biofuel_extraction','hydro_reservoir','hydro_run_of_river']:\n",
    "        locs,values = getImpactGenerationRecords(agri,s,tech)\n",
    "        for loc in locs:\n",
    "            record = {'scenario':s,'location':loc,'tech_type':tech}\n",
    "            for key,dataset in ({'land_occupation':agri,'fossil_depletion':fossil,\n",
    "                                'human_toxicity':human,'marine_toxicity':marine,\n",
    "                                'metal_depletion':metal,'climate_change':climate}).items():\n",
    "                value = getImpactGenerationRecords(dataset,s,tech,loc)\n",
    "                record[key] = value\n",
    "            impact_gen = impact_gen.append(record,ignore_index=True) "
   ]
  },
  {
   "cell_type": "code",
   "execution_count": 147,
   "id": "834db9eb",
   "metadata": {},
   "outputs": [
    {
     "data": {
      "text/plain": [
       "(261, 6)"
      ]
     },
     "execution_count": 147,
     "metadata": {},
     "output_type": "execute_result"
    }
   ],
   "source": [
    "impact_gen.groupby(by='scenario').sum().shape"
   ]
  },
  {
   "cell_type": "code",
   "execution_count": 148,
   "id": "0ee51a7b",
   "metadata": {},
   "outputs": [],
   "source": [
    "impact_gen.to_csv('ImpactGeneration.csv',index=False)"
   ]
  },
  {
   "cell_type": "code",
   "execution_count": 149,
   "id": "c96b9b1d",
   "metadata": {},
   "outputs": [],
   "source": [
    "def getImpactStorageRecords(dataset,scenario_id,tech_type,loc = None):\n",
    "    tech_type_label = ''.join(['energysystem.storage.electricity_storage.',tech_type,'_electricity'])\n",
    "    \n",
    "    sc_dataset = dataset.loc[dataset['Scenario'] == scenario_id,:]\n",
    "    agri_e = sc_dataset.loc[sc_dataset['Processor'] == tech_type_label,:][['System','Value']]\n",
    "    \n",
    "    if loc:\n",
    "        return agri_e.loc[agri_e['System'] == loc,:]['Value'].to_list()[0]\n",
    "    else:\n",
    "        return agri_e['System'].to_list(),agri_e['Value'].to_list()"
   ]
  },
  {
   "cell_type": "code",
   "execution_count": 150,
   "id": "d1819179",
   "metadata": {},
   "outputs": [],
   "source": [
    "impact_sto = pd.DataFrame(columns=['scenario','location','fossil_depletion','human_toxicity',\n",
    "                                   'land_occupation','marine_toxicity','metal_depletion','climate_change',\n",
    "                                   'tech_type'])"
   ]
  },
  {
   "cell_type": "code",
   "execution_count": 151,
   "id": "fa71bbb6",
   "metadata": {},
   "outputs": [],
   "source": [
    "for s in scenario_partial.index:\n",
    "    for tech in ['battery','pumped_hydro']:\n",
    "            locs,values = getImpactStorageRecords(agri,s,tech)\n",
    "            for loc in locs:\n",
    "                record = {'scenario':s,'location':loc,'tech_type':tech}\n",
    "                for key,dataset in ({'land_occupation':agri,'fossil_depletion':fossil,\n",
    "                                'human_toxicity':human,'marine_toxicity':marine,\n",
    "                                'metal_depletion':metal,'climate_change':climate}).items():\n",
    "                    value = getImpactStorageRecords(dataset,s,tech,loc)\n",
    "                    record[key] = value\n",
    "                impact_sto = impact_sto.append(record,ignore_index=True) "
   ]
  },
  {
   "cell_type": "code",
   "execution_count": 152,
   "id": "1c551aa4",
   "metadata": {},
   "outputs": [],
   "source": [
    "impact_sto.to_csv('ImpactStorage.csv',index=False)"
   ]
  },
  {
   "cell_type": "code",
   "execution_count": 153,
   "id": "eb66ed07",
   "metadata": {},
   "outputs": [],
   "source": [
    "# create a single impact table\n",
    "impact = pd.concat([impact_gen,impact_sto],axis=0)\n",
    "impact.reset_index(inplace=True)\n",
    "impact.to_csv('Impact.csv',index=False)"
   ]
  },
  {
   "cell_type": "code",
   "execution_count": 162,
   "id": "8d6bbccc",
   "metadata": {},
   "outputs": [
    {
     "data": {
      "text/plain": [
       "array(['chp_biofuel_extraction', 'chp_hydrogen', 'chp_methane_extraction',\n",
       "       'chp_wte_back_pressure', 'electrolysis', 'existing_pv',\n",
       "       'existing_wind', 'hydro_reservoir', 'hydro_run_of_river',\n",
       "       'open_field_pv', 'pumped_hydro', 'wind_onshore', 'battery', 'ccgt',\n",
       "       'roof_mounted_pv', 'wind_offshore'], dtype=object)"
      ]
     },
     "execution_count": 162,
     "metadata": {},
     "output_type": "execute_result"
    }
   ],
   "source": [
    "tech_gen.tech_type.unique()"
   ]
  },
  {
   "cell_type": "markdown",
   "id": "7c40de36",
   "metadata": {},
   "source": [
    "### Extending partial Scenario table by including remaining columns\n",
    "We will now use the other dataframes to extend Scenario table which was previously created partially."
   ]
  },
  {
   "cell_type": "code",
   "execution_count": 203,
   "id": "d494a5e4",
   "metadata": {},
   "outputs": [],
   "source": [
    "# columns to sum for each scenario \n",
    "results_columns = ['wind_onshore',\n",
    "                   'wind_offshore',\n",
    "                   'open_field_pv',\n",
    "                   'roof_mounted_pv',\n",
    "                   'hydro_run_of_river']\n",
    "\n",
    "# extracting first results columns values\n",
    "\n",
    "results_df = tech_gen.loc[tech_gen['tech_type'].isin(results_columns),:]\n",
    "results_ag = results_df.groupby(by=['scenario','tech_type']).sum()\n",
    "impact_ag = impact.groupby(by='scenario').sum()"
   ]
  },
  {
   "cell_type": "code",
   "execution_count": 207,
   "id": "c93fa762",
   "metadata": {},
   "outputs": [],
   "source": [
    "impact_columns = ['fossil_depletion', 'human_toxicity', 'land_occupation',\n",
    "       'marine_toxicity', 'metal_depletion', 'climate_change']\n",
    "\n",
    "remaining_scenario_columns = ['scenario'] + results_columns + impact_columns + ['battery']\n",
    "\n",
    "remaining_scenario = pd.DataFrame(columns = remaining_scenario_columns)"
   ]
  },
  {
   "cell_type": "code",
   "execution_count": 202,
   "id": "b2bc7164",
   "metadata": {},
   "outputs": [
    {
     "data": {
      "text/plain": [
       "{'value': {'battery': 4.675065200126717e-07}}"
      ]
     },
     "execution_count": 202,
     "metadata": {},
     "output_type": "execute_result"
    }
   ],
   "source": [
    "battery_sto = tech_sto.loc[tech_sto.tech_type=='battery',:].groupby(by=['scenario','tech_type']).sum()\n",
    "battery_sto.loc[0,:].to_dict()"
   ]
  },
  {
   "cell_type": "code",
   "execution_count": 208,
   "id": "2b219b71",
   "metadata": {},
   "outputs": [],
   "source": [
    "\n",
    "for scenario in scenario_ids:\n",
    "    record = {'scenario':scenario}\n",
    "    temp_tech = results_ag.loc[scenario,:].to_dict()['value']\n",
    "    temp_impact = impact_ag.loc[scenario,:][impact_columns].to_dict()\n",
    "    temp_battery = battery_sto.loc[scenario,:].to_dict()['value']\n",
    "    \n",
    "    \n",
    "    for key,value in temp_tech.items():\n",
    "        record[key] = value\n",
    "        \n",
    "    for key,value in temp_impact.items():\n",
    "        record[key] = value\n",
    "        \n",
    "    for key,value in temp_battery.items():\n",
    "        record[key] = value\n",
    "    \n",
    "    temp_df = pd.DataFrame(record,index=[0])\n",
    "    \n",
    "    remaining_scenario = pd.concat([remaining_scenario,temp_df])\n",
    "\n",
    "remaining_scenario.reset_index(inplace=True)"
   ]
  },
  {
   "cell_type": "code",
   "execution_count": 209,
   "id": "13dda746",
   "metadata": {},
   "outputs": [
    {
     "data": {
      "text/plain": [
       "RangeIndex(start=0, stop=261, step=1)"
      ]
     },
     "execution_count": 209,
     "metadata": {},
     "output_type": "execute_result"
    }
   ],
   "source": [
    "remaining_scenario.index"
   ]
  },
  {
   "cell_type": "code",
   "execution_count": 210,
   "id": "c872d5e3",
   "metadata": {},
   "outputs": [],
   "source": [
    "scenario = scenario_partial.join(remaining_scenario)"
   ]
  },
  {
   "cell_type": "code",
   "execution_count": 223,
   "id": "9c526ee0",
   "metadata": {},
   "outputs": [],
   "source": [
    "import numpy as np\n",
    "scenario.to_csv('Scenario_extended.csv',index=False)\n",
    "scenario = scenario.replace({np.nan:None})"
   ]
  },
  {
   "cell_type": "markdown",
   "id": "a88ea900",
   "metadata": {},
   "source": [
    "# Script to populate dataset"
   ]
  },
  {
   "cell_type": "code",
   "execution_count": 212,
   "id": "32c63307",
   "metadata": {},
   "outputs": [],
   "source": [
    "scenario = pd.read_csv('Scenario_extended.csv')\n",
    "impact = pd.read_csv('Impact.csv')\n",
    "tech_gen = pd.read_csv('TechGeneration.csv')\n",
    "tech_sto = pd.read_csv('TechStorage.csv')"
   ]
  },
  {
   "cell_type": "code",
   "execution_count": 215,
   "id": "8a6c8b10",
   "metadata": {},
   "outputs": [],
   "source": [
    "scenario['import_dep'] = scenario['import']"
   ]
  },
  {
   "cell_type": "code",
   "execution_count": 193,
   "id": "8f091da0",
   "metadata": {},
   "outputs": [],
   "source": [
    "tech_gen.drop_duplicates(inplace=True)"
   ]
  },
  {
   "cell_type": "code",
   "execution_count": 195,
   "id": "e72b63b1",
   "metadata": {},
   "outputs": [
    {
     "name": "stdout",
     "output_type": "stream",
     "text": [
      "{'location': 'PRT-1_1', 'region': 'Aveiro'}\n",
      "{'location': 'PRT-3_1', 'region': 'Beja'}\n",
      "{'location': 'PRT-4_1', 'region': 'Braga'}\n",
      "{'location': 'PRT-6_1', 'region': 'Castelo Branco'}\n",
      "{'location': 'PRT-7_1', 'region': 'Coimbra'}\n",
      "{'location': 'PRT-10_1', 'region': 'Guarda'}\n",
      "{'location': 'PRT-11_1', 'region': 'Leiria'}\n",
      "{'location': 'PRT-12_1', 'region': 'Lisboa'}\n",
      "{'location': 'PRT-14_1', 'region': 'Portalegre'}\n",
      "{'location': 'PRT-15_1', 'region': 'Porto'}\n",
      "{'location': 'PRT-18_1', 'region': 'Viana do Castelo'}\n",
      "{'location': 'PRT-19_1', 'region': 'Vila Real'}\n",
      "{'location': 'PRT-20_1', 'region': 'Viseu'}\n",
      "{'location': 'PRT-5_1', 'region': 'Bragança'}\n",
      "{'location': 'PRT-8_1', 'region': 'Évora'}\n",
      "{'location': 'PRT-16_1', 'region': 'Santarém'}\n",
      "{'location': 'PRT-17_1', 'region': 'Setúbal'}\n",
      "{'location': 'PRT-9_1', 'region': 'Faro'}\n",
      "{'location': 'PRT_1', 'region': 'Norte'}\n",
      "{'location': 'PRT_2', 'region': 'Sul'}\n"
     ]
    }
   ],
   "source": [
    "for g in geo.itertuples():\n",
    "    print({'location':g.index,'region':g.region_name})\n"
   ]
  },
  {
   "cell_type": "code",
   "execution_count": 213,
   "id": "54f040d9",
   "metadata": {},
   "outputs": [
    {
     "data": {
      "text/plain": [
       "Index(['id', 'infra', 'pace', 'import', 'power', 'storage', 'bio', 'index',\n",
       "       'scenario', 'wind_onshore', 'wind_offshore', 'open_field_pv',\n",
       "       'roof_mounted_pv', 'hydro_run_of_river', 'fossil_depletion',\n",
       "       'human_toxicity', 'land_occupation', 'marine_toxicity',\n",
       "       'metal_depletion', 'climate_change', 'battery'],\n",
       "      dtype='object')"
      ]
     },
     "execution_count": 213,
     "metadata": {},
     "output_type": "execute_result"
    }
   ],
   "source": [
    "scenario.columns"
   ]
  },
  {
   "cell_type": "code",
   "execution_count": null,
   "id": "7813b7dc",
   "metadata": {},
   "outputs": [],
   "source": [
    "for s in scenario.itertuples():\n",
    "    print('Scenario id:',int(s.id))\n",
    "    s_record = dict(power_capacity = s.power,\n",
    "            storage_capacity = s.storage,\n",
    "            community_infrastructure = s.infra,\n",
    "            import_dependency = s.import_dep,\n",
    "            implementation_pace = s.pace,\n",
    "            bio_fuel = s.bio,\n",
    "            wind_onshore = s.wind_onshore,\n",
    "            wind_offshore = s.wind_offshore,\n",
    "            open_field_pv = s.open_field_pv,\n",
    "            roof_mounted_pv = s.roof_mounted_pv,\n",
    "            hydro_run_of_river = s.hydro_run_of_river,\n",
    "            climate_change = s.climate_change,\n",
    "            land_occupation = s.land_occupation,\n",
    "            marine_toxicity = s.marine_toxicity,\n",
    "            human_toxicity = s.human_toxicity,\n",
    "            metal_depletion = s.metal_depletion,\n",
    "            battery = s.battery\n",
    "            )\n",
    "    \n",
    "    pp.pprint(s_record)\n",
    "    \n",
    "    tech_gen_s = tech_gen[tech_gen['scenario'] == s.id]\n",
    "    tech_sto_s = tech_sto[tech_sto['scenario'] == s.id]\n",
    "    \n",
    "    for tech_gen_record  in tech_gen_s.itertuples():\n",
    "        print({'scenario':s.id,\n",
    "              'location':tech_gen_record.location,\n",
    "              'technology_type':tech_gen_record.tech_type,\n",
    "              'energy_storage':tech_gen_record.value})\n",
    "        \n",
    "    for tech_sto_record  in tech_sto_s.itertuples():\n",
    "        print({'scenario':s.id,\n",
    "              'location':tech_sto_record.location,\n",
    "              'technology_type':tech_sto_record.tech_type,\n",
    "              'energy_storage':tech_sto_record.value})\n",
    "        \n",
    "    impact_gen_s = impact_gen[tech_gen['scenario'] == s.id]\n",
    "    impact_sto_s = impact_sto[tech_sto['scenario'] == s.id]\n",
    "    \n",
    "    for impact_gen_record  in impact.itertuples():\n",
    "        print({'scenario':s.id,\n",
    "               'location':impact_gen_record.location,\n",
    "               'technology_type':impact_gen_record.tech_type,\n",
    "               'land_occupation':impact_gen_record.land_occupation,\n",
    "               'marine_toxicity':impact_gen_record.marine_toxicity,\n",
    "               'human_toxicity':impact_gen_record.human_toxicity,\n",
    "               'metal_depletion':impact_gen_record.metal_depletion,\n",
    "               'fossil_depletion':impact_gen_record.fossil_depletion\n",
    "              })\n",
    "    \n",
    "    "
   ]
  }
 ],
 "metadata": {
  "kernelspec": {
   "display_name": "Python 3 (ipykernel)",
   "language": "python",
   "name": "python3"
  },
  "language_info": {
   "codemirror_mode": {
    "name": "ipython",
    "version": 3
   },
   "file_extension": ".py",
   "mimetype": "text/x-python",
   "name": "python",
   "nbconvert_exporter": "python",
   "pygments_lexer": "ipython3",
   "version": "3.9.16"
  }
 },
 "nbformat": 4,
 "nbformat_minor": 5
}
